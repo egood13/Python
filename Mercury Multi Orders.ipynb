{
 "cells": [
  {
   "cell_type": "code",
   "execution_count": 1,
   "metadata": {
    "ExecuteTime": {
     "end_time": "2018-06-18T17:57:48.239738Z",
     "start_time": "2018-06-18T17:57:46.575738Z"
    },
    "scrolled": true
   },
   "outputs": [],
   "source": [
    "import pandas as pd\n",
    "import numpy as np\n",
    "import datetime as dt\n",
    "import matplotlib.pyplot as plt\n",
    "from matplotlib import ticker\n",
    "from jupyterthemes import jtplot"
   ]
  },
  {
   "cell_type": "code",
   "execution_count": 2,
   "metadata": {
    "ExecuteTime": {
     "end_time": "2018-06-18T17:57:48.550738Z",
     "start_time": "2018-06-18T17:57:48.276738Z"
    },
    "scrolled": true
   },
   "outputs": [],
   "source": [
    "import sys\n",
    "if \"C:\\\\Users\\\\elliott.good\\\\Desktop\\\\Python Scripts\" not in sys.path:\n",
    "    sys.path.insert(0, \"C:\\\\Users\\\\elliott.good\\\\Desktop\\\\Python Scripts\")\n",
    "import SQL_query as query\n",
    "jtplot.style(\"chesterish\")"
   ]
  },
  {
   "cell_type": "code",
   "execution_count": 3,
   "metadata": {
    "ExecuteTime": {
     "end_time": "2018-06-18T17:57:48.571738Z",
     "start_time": "2018-06-18T17:57:48.566738Z"
    },
    "scrolled": true
   },
   "outputs": [],
   "source": [
    "sql = '''\n",
    "    SELECT lpn\n",
    "        ,gtin\n",
    "        ,job_id_hex\n",
    "        ,EXTRACT(YEAR FROM created_at) as year\n",
    "        ,EXTRACT(WEEK FROM created_at) as week\n",
    "        ,DATE(created_at)\n",
    "        ,updated_at\n",
    "        ,campaign_id\n",
    "        ,CASE WHEN order_type = 'single' THEN 0 ELSE 1 END as \"multi\"\n",
    "        ,printed_sides\n",
    "        ,shipment_token\n",
    "    FROM LMS_lpn\n",
    "    WHERE qc_result = 'pass'\n",
    "    AND YEAR(created_at) >= YEAR(CURRENT_DATE) - 1\n",
    "    AND created_at <= DATE(CURRENT_DATE - WEEKDAY(CURRENT_DATE) - 1)\n",
    "'''"
   ]
  },
  {
   "cell_type": "code",
   "execution_count": 4,
   "metadata": {
    "ExecuteTime": {
     "end_time": "2018-06-18T18:06:07.372738Z",
     "start_time": "2018-06-18T17:57:49.777738Z"
    },
    "scrolled": true
   },
   "outputs": [],
   "source": [
    "df = query.connect_to_Apollo(sql)"
   ]
  },
  {
   "cell_type": "code",
   "execution_count": 5,
   "metadata": {
    "ExecuteTime": {
     "end_time": "2018-06-18T18:06:07.509738Z",
     "start_time": "2018-06-18T18:06:07.488738Z"
    },
    "scrolled": true
   },
   "outputs": [
    {
     "data": {
      "text/html": [
       "<div>\n",
       "<style scoped>\n",
       "    .dataframe tbody tr th:only-of-type {\n",
       "        vertical-align: middle;\n",
       "    }\n",
       "\n",
       "    .dataframe tbody tr th {\n",
       "        vertical-align: top;\n",
       "    }\n",
       "\n",
       "    .dataframe thead th {\n",
       "        text-align: right;\n",
       "    }\n",
       "</style>\n",
       "<table border=\"1\" class=\"dataframe\">\n",
       "  <thead>\n",
       "    <tr style=\"text-align: right;\">\n",
       "      <th></th>\n",
       "      <th>lpn</th>\n",
       "      <th>gtin</th>\n",
       "      <th>job_id_hex</th>\n",
       "      <th>year</th>\n",
       "      <th>week</th>\n",
       "      <th>DATE(created_at)</th>\n",
       "      <th>updated_at</th>\n",
       "      <th>campaign_id</th>\n",
       "      <th>multi</th>\n",
       "      <th>printed_sides</th>\n",
       "      <th>shipment_token</th>\n",
       "    </tr>\n",
       "  </thead>\n",
       "  <tbody>\n",
       "    <tr>\n",
       "      <th>3466267</th>\n",
       "      <td>B000803270</td>\n",
       "      <td>00766369095964</td>\n",
       "      <td>J629c6a</td>\n",
       "      <td>2018</td>\n",
       "      <td>23</td>\n",
       "      <td>2018-06-15</td>\n",
       "      <td>2018-06-18 01:23:06</td>\n",
       "      <td>2654320</td>\n",
       "      <td>0</td>\n",
       "      <td>1</td>\n",
       "      <td>ship_06f818703d</td>\n",
       "    </tr>\n",
       "    <tr>\n",
       "      <th>3466268</th>\n",
       "      <td>B000803271</td>\n",
       "      <td>00766369095964</td>\n",
       "      <td>J629d64</td>\n",
       "      <td>2018</td>\n",
       "      <td>23</td>\n",
       "      <td>2018-06-15</td>\n",
       "      <td>2018-06-18 02:18:33</td>\n",
       "      <td>2650154</td>\n",
       "      <td>0</td>\n",
       "      <td>2</td>\n",
       "      <td>ship_edea963adf</td>\n",
       "    </tr>\n",
       "    <tr>\n",
       "      <th>3466269</th>\n",
       "      <td>B000803272</td>\n",
       "      <td>00766369095964</td>\n",
       "      <td>J629c34</td>\n",
       "      <td>2018</td>\n",
       "      <td>23</td>\n",
       "      <td>2018-06-15</td>\n",
       "      <td>2018-06-18 02:16:44</td>\n",
       "      <td>2653621</td>\n",
       "      <td>0</td>\n",
       "      <td>2</td>\n",
       "      <td>ship_5e6a7f35c5</td>\n",
       "    </tr>\n",
       "    <tr>\n",
       "      <th>3466270</th>\n",
       "      <td>B000803273</td>\n",
       "      <td>00766369095964</td>\n",
       "      <td>J629cee</td>\n",
       "      <td>2018</td>\n",
       "      <td>23</td>\n",
       "      <td>2018-06-15</td>\n",
       "      <td>2018-06-18 01:24:40</td>\n",
       "      <td>2654321</td>\n",
       "      <td>0</td>\n",
       "      <td>1</td>\n",
       "      <td>ship_95bbfbcf0c</td>\n",
       "    </tr>\n",
       "    <tr>\n",
       "      <th>3466271</th>\n",
       "      <td>B000803274</td>\n",
       "      <td>00766369095964</td>\n",
       "      <td>J629cfd</td>\n",
       "      <td>2018</td>\n",
       "      <td>23</td>\n",
       "      <td>2018-06-15</td>\n",
       "      <td>2018-06-18 01:25:07</td>\n",
       "      <td>2654322</td>\n",
       "      <td>0</td>\n",
       "      <td>1</td>\n",
       "      <td>ship_68d2e042c3</td>\n",
       "    </tr>\n",
       "  </tbody>\n",
       "</table>\n",
       "</div>"
      ],
      "text/plain": [
       "                lpn            gtin job_id_hex  year  week DATE(created_at)  \\\n",
       "3466267  B000803270  00766369095964    J629c6a  2018    23       2018-06-15   \n",
       "3466268  B000803271  00766369095964    J629d64  2018    23       2018-06-15   \n",
       "3466269  B000803272  00766369095964    J629c34  2018    23       2018-06-15   \n",
       "3466270  B000803273  00766369095964    J629cee  2018    23       2018-06-15   \n",
       "3466271  B000803274  00766369095964    J629cfd  2018    23       2018-06-15   \n",
       "\n",
       "                 updated_at  campaign_id  multi  printed_sides  \\\n",
       "3466267 2018-06-18 01:23:06      2654320      0              1   \n",
       "3466268 2018-06-18 02:18:33      2650154      0              2   \n",
       "3466269 2018-06-18 02:16:44      2653621      0              2   \n",
       "3466270 2018-06-18 01:24:40      2654321      0              1   \n",
       "3466271 2018-06-18 01:25:07      2654322      0              1   \n",
       "\n",
       "          shipment_token  \n",
       "3466267  ship_06f818703d  \n",
       "3466268  ship_edea963adf  \n",
       "3466269  ship_5e6a7f35c5  \n",
       "3466270  ship_95bbfbcf0c  \n",
       "3466271  ship_68d2e042c3  "
      ]
     },
     "execution_count": 5,
     "metadata": {},
     "output_type": "execute_result"
    }
   ],
   "source": [
    "#df[\"X\"] = df[\"order_type\"].apply(lambda x: 0 if x == 'single' else 1)\n",
    "df.tail()"
   ]
  },
  {
   "cell_type": "markdown",
   "metadata": {},
   "source": [
    "# YTD Multi Proportion"
   ]
  },
  {
   "cell_type": "code",
   "execution_count": 16,
   "metadata": {
    "ExecuteTime": {
     "end_time": "2018-06-11T18:25:24.150870Z",
     "start_time": "2018-06-11T18:25:24.054870Z"
    },
    "scrolled": true
   },
   "outputs": [],
   "source": [
    "# N = len(df)\n",
    "# X = df[\"multi\"].sum()"
   ]
  },
  {
   "cell_type": "code",
   "execution_count": 17,
   "metadata": {
    "ExecuteTime": {
     "end_time": "2018-06-11T18:25:25.624870Z",
     "start_time": "2018-06-11T18:25:25.617870Z"
    },
    "scrolled": true
   },
   "outputs": [
    {
     "name": "stdout",
     "output_type": "stream",
     "text": [
      "multi's: 1186350 \n",
      "total: 5930513 \n",
      "proportion: 0.2000\n"
     ]
    }
   ],
   "source": [
    "# p = X/N\n",
    "# print(\"multi's:\", X, \"\\ntotal:\", N, \"\\nproportion: {0:.4f}\".format(p))"
   ]
  },
  {
   "cell_type": "code",
   "execution_count": null,
   "metadata": {
    "ExecuteTime": {
     "start_time": "2018-06-11T18:13:43.638Z"
    },
    "scrolled": true
   },
   "outputs": [],
   "source": [
    "# confidence interval\n",
    "# z = norm.ppf(.995)\n",
    "# lower = p - (z*np.sqrt(p*(1-p)/N))\n",
    "# upper = p + (z*np.sqrt(p*(1-p)/N))"
   ]
  },
  {
   "cell_type": "code",
   "execution_count": null,
   "metadata": {
    "ExecuteTime": {
     "start_time": "2018-06-11T18:13:43.642Z"
    },
    "scrolled": true
   },
   "outputs": [],
   "source": [
    "# print(\"99% confidence interval: ({0:.4f}, {1:.4f})\".format(lower, upper))"
   ]
  },
  {
   "cell_type": "markdown",
   "metadata": {},
   "source": [
    "# Multi Proportion Time Series"
   ]
  },
  {
   "cell_type": "code",
   "execution_count": 6,
   "metadata": {
    "ExecuteTime": {
     "end_time": "2018-06-18T18:06:08.478738Z",
     "start_time": "2018-06-18T18:06:07.609738Z"
    }
   },
   "outputs": [
    {
     "data": {
      "text/html": [
       "<div>\n",
       "<style scoped>\n",
       "    .dataframe tbody tr th:only-of-type {\n",
       "        vertical-align: middle;\n",
       "    }\n",
       "\n",
       "    .dataframe tbody tr th {\n",
       "        vertical-align: top;\n",
       "    }\n",
       "\n",
       "    .dataframe thead tr th {\n",
       "        text-align: left;\n",
       "    }\n",
       "</style>\n",
       "<table border=\"1\" class=\"dataframe\">\n",
       "  <thead>\n",
       "    <tr>\n",
       "      <th></th>\n",
       "      <th>year</th>\n",
       "      <th>week</th>\n",
       "      <th colspan=\"2\" halign=\"left\">multi</th>\n",
       "      <th>p</th>\n",
       "    </tr>\n",
       "    <tr>\n",
       "      <th></th>\n",
       "      <th></th>\n",
       "      <th></th>\n",
       "      <th>count</th>\n",
       "      <th>sum</th>\n",
       "      <th></th>\n",
       "    </tr>\n",
       "  </thead>\n",
       "  <tbody>\n",
       "    <tr>\n",
       "      <th>53</th>\n",
       "      <td>2018</td>\n",
       "      <td>1</td>\n",
       "      <td>47955</td>\n",
       "      <td>6875</td>\n",
       "      <td>0.143364</td>\n",
       "    </tr>\n",
       "    <tr>\n",
       "      <th>54</th>\n",
       "      <td>2018</td>\n",
       "      <td>2</td>\n",
       "      <td>51266</td>\n",
       "      <td>7348</td>\n",
       "      <td>0.143331</td>\n",
       "    </tr>\n",
       "    <tr>\n",
       "      <th>55</th>\n",
       "      <td>2018</td>\n",
       "      <td>3</td>\n",
       "      <td>50250</td>\n",
       "      <td>7599</td>\n",
       "      <td>0.151224</td>\n",
       "    </tr>\n",
       "    <tr>\n",
       "      <th>56</th>\n",
       "      <td>2018</td>\n",
       "      <td>4</td>\n",
       "      <td>52141</td>\n",
       "      <td>7782</td>\n",
       "      <td>0.149249</td>\n",
       "    </tr>\n",
       "    <tr>\n",
       "      <th>57</th>\n",
       "      <td>2018</td>\n",
       "      <td>5</td>\n",
       "      <td>43663</td>\n",
       "      <td>6169</td>\n",
       "      <td>0.141287</td>\n",
       "    </tr>\n",
       "    <tr>\n",
       "      <th>58</th>\n",
       "      <td>2018</td>\n",
       "      <td>6</td>\n",
       "      <td>59974</td>\n",
       "      <td>9716</td>\n",
       "      <td>0.162004</td>\n",
       "    </tr>\n",
       "    <tr>\n",
       "      <th>59</th>\n",
       "      <td>2018</td>\n",
       "      <td>7</td>\n",
       "      <td>56527</td>\n",
       "      <td>9917</td>\n",
       "      <td>0.175438</td>\n",
       "    </tr>\n",
       "    <tr>\n",
       "      <th>60</th>\n",
       "      <td>2018</td>\n",
       "      <td>8</td>\n",
       "      <td>65954</td>\n",
       "      <td>10822</td>\n",
       "      <td>0.164084</td>\n",
       "    </tr>\n",
       "    <tr>\n",
       "      <th>61</th>\n",
       "      <td>2018</td>\n",
       "      <td>9</td>\n",
       "      <td>62100</td>\n",
       "      <td>11729</td>\n",
       "      <td>0.188873</td>\n",
       "    </tr>\n",
       "    <tr>\n",
       "      <th>62</th>\n",
       "      <td>2018</td>\n",
       "      <td>10</td>\n",
       "      <td>58695</td>\n",
       "      <td>9346</td>\n",
       "      <td>0.159230</td>\n",
       "    </tr>\n",
       "    <tr>\n",
       "      <th>63</th>\n",
       "      <td>2018</td>\n",
       "      <td>11</td>\n",
       "      <td>57362</td>\n",
       "      <td>9830</td>\n",
       "      <td>0.171368</td>\n",
       "    </tr>\n",
       "    <tr>\n",
       "      <th>64</th>\n",
       "      <td>2018</td>\n",
       "      <td>12</td>\n",
       "      <td>54058</td>\n",
       "      <td>9843</td>\n",
       "      <td>0.182082</td>\n",
       "    </tr>\n",
       "    <tr>\n",
       "      <th>65</th>\n",
       "      <td>2018</td>\n",
       "      <td>13</td>\n",
       "      <td>54840</td>\n",
       "      <td>9907</td>\n",
       "      <td>0.180653</td>\n",
       "    </tr>\n",
       "    <tr>\n",
       "      <th>66</th>\n",
       "      <td>2018</td>\n",
       "      <td>14</td>\n",
       "      <td>48800</td>\n",
       "      <td>8918</td>\n",
       "      <td>0.182746</td>\n",
       "    </tr>\n",
       "    <tr>\n",
       "      <th>67</th>\n",
       "      <td>2018</td>\n",
       "      <td>15</td>\n",
       "      <td>50025</td>\n",
       "      <td>9843</td>\n",
       "      <td>0.196762</td>\n",
       "    </tr>\n",
       "    <tr>\n",
       "      <th>68</th>\n",
       "      <td>2018</td>\n",
       "      <td>16</td>\n",
       "      <td>50414</td>\n",
       "      <td>10445</td>\n",
       "      <td>0.207185</td>\n",
       "    </tr>\n",
       "    <tr>\n",
       "      <th>69</th>\n",
       "      <td>2018</td>\n",
       "      <td>17</td>\n",
       "      <td>42359</td>\n",
       "      <td>8466</td>\n",
       "      <td>0.199863</td>\n",
       "    </tr>\n",
       "    <tr>\n",
       "      <th>70</th>\n",
       "      <td>2018</td>\n",
       "      <td>18</td>\n",
       "      <td>50491</td>\n",
       "      <td>9508</td>\n",
       "      <td>0.188311</td>\n",
       "    </tr>\n",
       "    <tr>\n",
       "      <th>71</th>\n",
       "      <td>2018</td>\n",
       "      <td>19</td>\n",
       "      <td>41862</td>\n",
       "      <td>9125</td>\n",
       "      <td>0.217978</td>\n",
       "    </tr>\n",
       "    <tr>\n",
       "      <th>72</th>\n",
       "      <td>2018</td>\n",
       "      <td>20</td>\n",
       "      <td>40509</td>\n",
       "      <td>8335</td>\n",
       "      <td>0.205757</td>\n",
       "    </tr>\n",
       "    <tr>\n",
       "      <th>73</th>\n",
       "      <td>2018</td>\n",
       "      <td>21</td>\n",
       "      <td>38502</td>\n",
       "      <td>7961</td>\n",
       "      <td>0.206768</td>\n",
       "    </tr>\n",
       "    <tr>\n",
       "      <th>74</th>\n",
       "      <td>2018</td>\n",
       "      <td>22</td>\n",
       "      <td>49376</td>\n",
       "      <td>10491</td>\n",
       "      <td>0.212472</td>\n",
       "    </tr>\n",
       "    <tr>\n",
       "      <th>75</th>\n",
       "      <td>2018</td>\n",
       "      <td>23</td>\n",
       "      <td>46398</td>\n",
       "      <td>9327</td>\n",
       "      <td>0.201022</td>\n",
       "    </tr>\n",
       "  </tbody>\n",
       "</table>\n",
       "</div>"
      ],
      "text/plain": [
       "    year week  multi                p\n",
       "               count    sum          \n",
       "53  2018    1  47955   6875  0.143364\n",
       "54  2018    2  51266   7348  0.143331\n",
       "55  2018    3  50250   7599  0.151224\n",
       "56  2018    4  52141   7782  0.149249\n",
       "57  2018    5  43663   6169  0.141287\n",
       "58  2018    6  59974   9716  0.162004\n",
       "59  2018    7  56527   9917  0.175438\n",
       "60  2018    8  65954  10822  0.164084\n",
       "61  2018    9  62100  11729  0.188873\n",
       "62  2018   10  58695   9346  0.159230\n",
       "63  2018   11  57362   9830  0.171368\n",
       "64  2018   12  54058   9843  0.182082\n",
       "65  2018   13  54840   9907  0.180653\n",
       "66  2018   14  48800   8918  0.182746\n",
       "67  2018   15  50025   9843  0.196762\n",
       "68  2018   16  50414  10445  0.207185\n",
       "69  2018   17  42359   8466  0.199863\n",
       "70  2018   18  50491   9508  0.188311\n",
       "71  2018   19  41862   9125  0.217978\n",
       "72  2018   20  40509   8335  0.205757\n",
       "73  2018   21  38502   7961  0.206768\n",
       "74  2018   22  49376  10491  0.212472\n",
       "75  2018   23  46398   9327  0.201022"
      ]
     },
     "execution_count": 6,
     "metadata": {},
     "output_type": "execute_result"
    }
   ],
   "source": [
    "grouped = df[[\"year\", \"week\", \"multi\"]].groupby(by=[\"year\", \"week\"]).agg([\"count\", \"sum\"]).reset_index()\n",
    "grouped[\"p\"] = grouped[\"multi\"][\"sum\"]/grouped[\"multi\"][\"count\"]\n",
    "grouped.tail(grouped[grouped[\"year\"] == 2018][\"week\"].max())"
   ]
  },
  {
   "cell_type": "code",
   "execution_count": 19,
   "metadata": {
    "ExecuteTime": {
     "end_time": "2018-06-11T18:25:33.416870Z",
     "start_time": "2018-06-11T18:25:33.405870Z"
    }
   },
   "outputs": [],
   "source": [
    "# function to show the yearly intervals\n",
    "def yearMarkers(axis_obj, x_pos, **kwargs):\n",
    "    axis_obj.axvline(x_pos, linestyle='--', color='w', alpha=.4, **kwargs)\n",
    "years = np.arange(0,len(grouped), 51)"
   ]
  },
  {
   "cell_type": "code",
   "execution_count": 20,
   "metadata": {
    "ExecuteTime": {
     "end_time": "2018-06-11T18:25:34.138870Z",
     "start_time": "2018-06-11T18:25:33.559870Z"
    },
    "scrolled": false
   },
   "outputs": [
    {
     "data": {
      "image/png": "[encoded data removed]",
      "text/plain": [
       "<matplotlib.figure.Figure at 0x159158908>"
      ]
     },
     "metadata": {},
     "output_type": "display_data"
    }
   ],
   "source": [
    "fig, [ax1, ax2] = plt.subplots(2)\n",
    "# set figure width/height\n",
    "fig.set_figwidth(10)\n",
    "fig.set_figheight(10)\n",
    "\n",
    "# first plot\n",
    "ax1.plot(grouped[\"p\"])\n",
    "for year in years: # mark years\n",
    "    yearMarkers(ax1, year)\n",
    "ax1.title\n",
    "ax1.set_title(\"Proportion Multi's\")\n",
    "\n",
    "# change tick labels to year\n",
    "ax1.xaxis.set_major_locator(ticker.MultipleLocator(51))\n",
    "ax1.xaxis.set_major_formatter(ticker.FormatStrFormatter('%d'))\n",
    "labels = [item.get_text() for item in ax2.get_xticklabels()]\n",
    "labels[1], labels[2], labels[3] = \"2016\", \"2017\", \"2018\"\n",
    "ax1.set_xticklabels(labels, fontdict={'size': 'large'})\n",
    "\n",
    "# second plot\n",
    "ax2.plot(grouped[\"multi\"][\"count\"], label='total units')\n",
    "ax2.plot(grouped[\"multi\"][\"sum\"], label=\"multi's\")\n",
    "for year in years: # mark years\n",
    "    yearMarkers(ax2, year)\n",
    "ax2.set_title(\"Number of units\")\n",
    "ax2.legend(loc=[1.025,.6])\n",
    "\n",
    "# change tick labels to year\n",
    "ax2.xaxis.set_major_locator(ticker.MultipleLocator(51))\n",
    "ax2.xaxis.set_major_formatter(ticker.FormatStrFormatter('%d'))\n",
    "labels = [item.get_text() for item in ax2.get_xticklabels()]\n",
    "labels[1], labels[2], labels[3] = \"2016\", \"2017\", \"2018\"\n",
    "ax2.set_xticklabels(labels, fontdict={'size': 'large'})\n",
    "\n",
    "plt.show()"
   ]
  },
  {
   "cell_type": "code",
   "execution_count": null,
   "metadata": {},
   "outputs": [],
   "source": []
  }
 ],
 "metadata": {
  "hide_input": false,
  "kernelspec": {
   "display_name": "Python 3",
   "language": "python",
   "name": "python3"
  },
  "language_info": {
   "codemirror_mode": {
    "name": "ipython",
    "version": 3
   },
   "file_extension": ".py",
   "mimetype": "text/x-python",
   "name": "python",
   "nbconvert_exporter": "python",
   "pygments_lexer": "ipython3",
   "version": "3.6.4"
  },
  "notify_time": "5",
  "toc": {
   "nav_menu": {},
   "number_sections": false,
   "sideBar": true,
   "skip_h1_title": false,
   "title_cell": "Table of Contents",
   "title_sidebar": "Contents",
   "toc_cell": false,
   "toc_position": {},
   "toc_section_display": true,
   "toc_window_display": true
  },
  "varInspector": {
   "cols": {
    "lenName": 16,
    "lenType": 16,
    "lenVar": 40
   },
   "kernels_config": {
    "python": {
     "delete_cmd_postfix": "",
     "delete_cmd_prefix": "del ",
     "library": "var_list.py",
     "varRefreshCmd": "print(var_dic_list())"
    },
    "r": {
     "delete_cmd_postfix": ") ",
     "delete_cmd_prefix": "rm(",
     "library": "var_list.r",
     "varRefreshCmd": "cat(var_dic_list()) "
    }
   },
   "types_to_exclude": [
    "module",
    "function",
    "builtin_function_or_method",
    "instance",
    "_Feature"
   ],
   "window_display": false
  }
 },
 "nbformat": 4,
 "nbformat_minor": 2
}
