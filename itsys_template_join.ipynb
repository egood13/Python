{
 "cells": [
  {
   "cell_type": "code",
   "execution_count": 4,
   "metadata": {
    "collapsed": true
   },
   "outputs": [],
   "source": [
    "import pandas as pd\n",
    "import xlwings as xw"
   ]
  },
  {
   "cell_type": "code",
   "execution_count": 5,
   "metadata": {
    "collapsed": false
   },
   "outputs": [],
   "source": [
    "# make sure you save file first and unfilter all tables\n",
    "wb = xw.Workbook('U:/SQL/PUBLIC/PORTAL/NA_sector_itsys_mapping/na_sector_itsys_template.xlsx')"
   ]
  },
  {
   "cell_type": "code",
   "execution_count": 6,
   "metadata": {
    "collapsed": true
   },
   "outputs": [],
   "source": [
    "target_sht = 'Sheet1'"
   ]
  },
  {
   "cell_type": "code",
   "execution_count": 119,
   "metadata": {
    "collapsed": true
   },
   "outputs": [],
   "source": [
    "# get IT system mapping by client"
   ]
  },
  {
   "cell_type": "code",
   "execution_count": 7,
   "metadata": {
    "collapsed": false
   },
   "outputs": [],
   "source": [
    "sys_data = xw.Range('client_sys_lookup','A5').table.value  # refresh client_sys_lookup tab first\n",
    "sys_df = pd.DataFrame(data=sys_data[1:],columns=sys_data[0])\n",
    "sys_df = sys_df[sys_df.in_template != 'None'] # exclude clients that aren't in template provided\n",
    "sys_df = sys_df.iloc[:, 1:3] # filter to client/sys\n",
    "sys_df.columns = ['CLIENT CODE', 'Warehouse Management System'] # update column names\n",
    "sys_df = sys_df[sys_df['Warehouse Management System'] != 'GWS(LMS)'] # remove clients with GWS(LMS)"
   ]
  },
  {
   "cell_type": "code",
   "execution_count": 8,
   "metadata": {
    "collapsed": true
   },
   "outputs": [],
   "source": [
    "# get data on template sheet provided by BIA"
   ]
  },
  {
   "cell_type": "code",
   "execution_count": 9,
   "metadata": {
    "collapsed": false
   },
   "outputs": [],
   "source": [
    "t_data = xw.Range('Template', 'A1').table.value\n",
    "t_df = pd.DataFrame(data=t_data[1:], columns=t_data[0])\n",
    "t_df = t_df.drop('Warehouse Management System',1) # drop their itsys and use what we have"
   ]
  },
  {
   "cell_type": "code",
   "execution_count": 10,
   "metadata": {
    "collapsed": true
   },
   "outputs": [],
   "source": [
    "# merge our data with their data and conserve structure"
   ]
  },
  {
   "cell_type": "code",
   "execution_count": 11,
   "metadata": {
    "collapsed": false,
    "scrolled": false
   },
   "outputs": [],
   "source": [
    "merged_df = sys_df.merge(t_df, how='inner', on='CLIENT CODE')\n",
    "merged_df = merged_df.append(t_df[t_df.client_sys_count == 0]) # appends clients that don't appear in client_sys_count\n",
    "col_order =['REPORTING BUSINESS UNIT ID'\n",
    "        ,'REPORTING BUSINESS UNIT'\n",
    "        ,'REGION ID'\n",
    "        ,'REGION NAME'\n",
    "        ,'COUNTRY CODE'\n",
    "        ,'COUNTRY NAME'\n",
    "        ,'CLIENT CODE'\n",
    "        ,'CLIENT NAME'\n",
    "        ,'SECTOR CODE'\n",
    "        ,'SECTOR DESC'\n",
    "        ,'BUSINESS SEGMENT'\n",
    "        ,'Warehouse Management System'\n",
    "        ,'Transportation Management System'\n",
    "        ,'Repair & Return Flag'\n",
    "        ,'QA Flag']\n",
    "merged_df = merged_df.reindex(columns=col_order) # set column order"
   ]
  },
  {
   "cell_type": "code",
   "execution_count": 12,
   "metadata": {
    "collapsed": true
   },
   "outputs": [],
   "source": [
    "# get transportation it sys data"
   ]
  },
  {
   "cell_type": "code",
   "execution_count": 13,
   "metadata": {
    "collapsed": true
   },
   "outputs": [],
   "source": [
    "details_data = xw.Range('it_sys_details', 'B11').table.value\n",
    "details_df = pd.DataFrame(data=details_data[1:], columns=details_data[0])\n",
    "details_df = details_df[['client_number','Warehouse Mgmt System', 'Transportation Mgmt System']]\n",
    "# remove client-locations with nothing under mgmt/trans systems\n",
    "details_df = details_df[(details_df['Warehouse Mgmt System'] != '')&(details_df['Transportation Mgmt System'] != '')]"
   ]
  },
  {
   "cell_type": "code",
   "execution_count": 14,
   "metadata": {
    "collapsed": true
   },
   "outputs": [],
   "source": [
    "# categorize trans it sys"
   ]
  },
  {
   "cell_type": "code",
   "execution_count": 15,
   "metadata": {
    "collapsed": false
   },
   "outputs": [],
   "source": [
    "trans_mgmt_sys_adj = []\n",
    "for sys in details_df['Transportation Mgmt System']:\n",
    "    if sys == 'ETMS' or sys == 'OTM Transportation Mgmt':\n",
    "        trans_mgmt_sys_adj.append('ETMS')\n",
    "    elif sys == 'RTM':\n",
    "        trans_mgmt_sys_adj.append('RTM')\n",
    "    else:\n",
    "        trans_mgmt_sys_adj.append(\"\")\n",
    "details_df['trans_mgmt_sys_adj'] = trans_mgmt_sys_adj"
   ]
  },
  {
   "cell_type": "code",
   "execution_count": 16,
   "metadata": {
    "collapsed": true
   },
   "outputs": [],
   "source": [
    "# conserve data structure and drop duplicates to circumvent multiplying rows in output"
   ]
  },
  {
   "cell_type": "code",
   "execution_count": 17,
   "metadata": {
    "collapsed": false
   },
   "outputs": [],
   "source": [
    "details_df = details_df.drop('Transportation Mgmt System', 1)\n",
    "details_df = details_df.rename(columns={\"client_number\":\"CLIENT CODE\"\n",
    "                                        ,\"trans_mgmt_sys_adj\":\"Transportation Management System\"\n",
    "                                        ,\"Warehouse Mgmt System\":\"Warehouse Management System\"})\n",
    "details_df = details_df.drop_duplicates()"
   ]
  },
  {
   "cell_type": "code",
   "execution_count": 18,
   "metadata": {
    "collapsed": true
   },
   "outputs": [],
   "source": [
    "# merge trans it sys data with the rest of our data\n",
    "# join on client code AND warehouse mgmt sys so that trans it sys is mapped accurately"
   ]
  },
  {
   "cell_type": "code",
   "execution_count": 19,
   "metadata": {
    "collapsed": true
   },
   "outputs": [],
   "source": [
    "merged_df = merged_df.drop('Transportation Management System',1)\n",
    "merged_df = merged_df.merge(details_df, how='left', on=['CLIENT CODE', 'Warehouse Management System'])\n",
    "merged_df = merged_df.reindex(columns=col_order)"
   ]
  },
  {
   "cell_type": "code",
   "execution_count": 20,
   "metadata": {
    "collapsed": true
   },
   "outputs": [],
   "source": [
    "# paste to target_sht"
   ]
  },
  {
   "cell_type": "code",
   "execution_count": 21,
   "metadata": {
    "collapsed": false
   },
   "outputs": [],
   "source": [
    "xw.Sheet(target_sht).clear_contents()\n",
    "xw.Range(target_sht,'A1').value = merged_df.set_index('REPORTING BUSINESS UNIT ID')"
   ]
  },
  {
   "cell_type": "code",
   "execution_count": 22,
   "metadata": {
    "collapsed": false
   },
   "outputs": [],
   "source": [
    "# check that RTM output is close to what we have in it_sys_details tab\n",
    "#d2 = details_df[details_df['Transportation Management System'] == 'RTM']\n",
    "#d2 = d2.drop_duplicates()\n",
    "#xw.Range('Sheet2', 'K1').value = d2"
   ]
  },
  {
   "cell_type": "code",
   "execution_count": 23,
   "metadata": {
    "collapsed": false
   },
   "outputs": [
    {
     "data": {
      "text/html": [
       "<div>\n",
       "<table border=\"1\" class=\"dataframe\">\n",
       "  <thead>\n",
       "    <tr style=\"text-align: right;\">\n",
       "      <th></th>\n",
       "      <th>CLIENT CODE</th>\n",
       "      <th>Warehouse Management System</th>\n",
       "      <th>Transportation Management System_x</th>\n",
       "      <th>Transportation Management System_y</th>\n",
       "    </tr>\n",
       "  </thead>\n",
       "  <tbody>\n",
       "    <tr>\n",
       "      <th>10</th>\n",
       "      <td>0000403</td>\n",
       "      <td>PkMS(GWS)</td>\n",
       "      <td>ETMS</td>\n",
       "      <td></td>\n",
       "    </tr>\n",
       "    <tr>\n",
       "      <th>11</th>\n",
       "      <td>0000403</td>\n",
       "      <td>PkMS(GWS)</td>\n",
       "      <td></td>\n",
       "      <td>ETMS</td>\n",
       "    </tr>\n",
       "    <tr>\n",
       "      <th>148</th>\n",
       "      <td>0005571</td>\n",
       "      <td>LMS</td>\n",
       "      <td>ETMS</td>\n",
       "      <td></td>\n",
       "    </tr>\n",
       "    <tr>\n",
       "      <th>149</th>\n",
       "      <td>0005571</td>\n",
       "      <td>LMS</td>\n",
       "      <td></td>\n",
       "      <td>ETMS</td>\n",
       "    </tr>\n",
       "    <tr>\n",
       "      <th>164</th>\n",
       "      <td>0005861</td>\n",
       "      <td>EXCEED</td>\n",
       "      <td></td>\n",
       "      <td>ETMS</td>\n",
       "    </tr>\n",
       "    <tr>\n",
       "      <th>165</th>\n",
       "      <td>0005861</td>\n",
       "      <td>EXCEED</td>\n",
       "      <td>ETMS</td>\n",
       "      <td></td>\n",
       "    </tr>\n",
       "  </tbody>\n",
       "</table>\n",
       "</div>"
      ],
      "text/plain": [
       "    CLIENT CODE Warehouse Management System  \\\n",
       "10      0000403                   PkMS(GWS)   \n",
       "11      0000403                   PkMS(GWS)   \n",
       "148     0005571                         LMS   \n",
       "149     0005571                         LMS   \n",
       "164     0005861                      EXCEED   \n",
       "165     0005861                      EXCEED   \n",
       "\n",
       "    Transportation Management System_x Transportation Management System_y  \n",
       "10                                ETMS                                     \n",
       "11                                                                   ETMS  \n",
       "148                               ETMS                                     \n",
       "149                                                                  ETMS  \n",
       "164                                                                  ETMS  \n",
       "165                               ETMS                                     "
      ]
     },
     "execution_count": 23,
     "metadata": {},
     "output_type": "execute_result"
    }
   ],
   "source": [
    "# manually delete the extra rows for the following clients\n",
    "del_df = details_df.merge(details_df, how='left', on=['CLIENT CODE', 'Warehouse Management System'],sort='CLIENT CODE')\n",
    "del_df[del_df['Transportation Management System_x'] != del_df['Transportation Management System_y']]"
   ]
  }
 ],
 "metadata": {
  "kernelspec": {
   "display_name": "Python 3",
   "language": "python",
   "name": "python3"
  },
  "language_info": {
   "codemirror_mode": {
    "name": "ipython",
    "version": 3
   },
   "file_extension": ".py",
   "mimetype": "text/x-python",
   "name": "python",
   "nbconvert_exporter": "python",
   "pygments_lexer": "ipython3",
   "version": "3.4.3"
  }
 },
 "nbformat": 4,
 "nbformat_minor": 0
}
