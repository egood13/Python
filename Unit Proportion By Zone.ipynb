{
 "cells": [
  {
   "cell_type": "code",
   "execution_count": 1,
   "metadata": {
    "ExecuteTime": {
     "end_time": "2018-06-26T15:38:22.741843Z",
     "start_time": "2018-06-26T15:38:19.289843Z"
    }
   },
   "outputs": [],
   "source": [
    "import pandas as pd\n",
    "import numpy as np\n",
    "import scipy.stats as stats\n",
    "import matplotlib.pyplot as plt\n",
    "from jupyterthemes import jtplot\n",
    "import sys\n",
    "sys.path.insert(0,\"C:\\\\Users\\\\elliott.good\\\\Desktop\\\\Python Scripts\")\n",
    "import SQL_query as query"
   ]
  },
  {
   "cell_type": "code",
   "execution_count": 2,
   "metadata": {
    "ExecuteTime": {
     "end_time": "2018-06-26T15:38:22.755843Z",
     "start_time": "2018-06-26T15:38:22.743843Z"
    }
   },
   "outputs": [],
   "source": [
    "jtplot.style('chesterish') # change plot style to notebook theme"
   ]
  },
  {
   "cell_type": "code",
   "execution_count": 3,
   "metadata": {
    "ExecuteTime": {
     "end_time": "2018-06-26T15:38:22.778843Z",
     "start_time": "2018-06-26T15:38:22.759843Z"
    }
   },
   "outputs": [],
   "source": [
    "sql = sqlQuery
   ]
  },
  {
   "cell_type": "code",
   "execution_count": 4,
   "metadata": {
    "ExecuteTime": {
     "end_time": "2018-06-26T15:39:38.264843Z",
     "start_time": "2018-06-26T15:38:22.783843Z"
    }
   },
   "outputs": [],
   "source": [
    "df = query.connect_to_Artemis(sql)"
   ]
  },
  {
   "cell_type": "code",
   "execution_count": 5,
   "metadata": {
    "ExecuteTime": {
     "end_time": "2018-06-26T15:39:38.381843Z",
     "start_time": "2018-06-26T15:39:38.268843Z"
    }
   },
   "outputs": [],
   "source": [
    "for i in df[\"location\"].unique():\n",
    "    if i[0] == \"T\":\n",
    "        print(i)"
   ]
  },
  {
   "cell_type": "code",
   "execution_count": 6,
   "metadata": {
    "ExecuteTime": {
     "end_time": "2018-06-26T15:39:38.410843Z",
     "start_time": "2018-06-26T15:39:38.384843Z"
    }
   },
   "outputs": [],
   "source": [
    "# year and week are read as floats, convert them to integers\n",
    "df[\"year\"] = df[\"year\"].astype(int)\n",
    "df[\"week\"] = df[\"week\"].astype(int)"
   ]
  },
  {
   "cell_type": "markdown",
   "metadata": {},
   "source": [
    "## Total Proportions"
   ]
  },
  {
   "cell_type": "code",
   "execution_count": 7,
   "metadata": {
    "ExecuteTime": {
     "end_time": "2018-06-26T15:39:38.560843Z",
     "start_time": "2018-06-26T15:39:38.412843Z"
    }
   },
   "outputs": [
    {
     "data": {
      "text/html": [
       "<div>\n",
       "<style scoped>\n",
       "    .dataframe tbody tr th:only-of-type {\n",
       "        vertical-align: middle;\n",
       "    }\n",
       "\n",
       "    .dataframe tbody tr th {\n",
       "        vertical-align: top;\n",
       "    }\n",
       "\n",
       "    .dataframe thead th {\n",
       "        text-align: right;\n",
       "    }\n",
       "</style>\n",
       "<table border=\"1\" class=\"dataframe\">\n",
       "  <thead>\n",
       "    <tr style=\"text-align: right;\">\n",
       "      <th></th>\n",
       "      <th>year</th>\n",
       "      <th>week</th>\n",
       "      <th>wave_id</th>\n",
       "      <th>picker</th>\n",
       "      <th>wave_created_at</th>\n",
       "      <th>wave_updated_at</th>\n",
       "      <th>location</th>\n",
       "      <th>location_zone</th>\n",
       "      <th>units_at_location</th>\n",
       "      <th>units_in_wave</th>\n",
       "    </tr>\n",
       "  </thead>\n",
       "  <tbody>\n",
       "  </tbody>\n",
       "</table>\n",
       "</div>"
      ],
      "text/plain": [
       "Empty DataFrame\n",
       "Columns: [year, week, wave_id, picker, wave_created_at, wave_updated_at, location, location_zone, units_at_location, units_in_wave]\n",
       "Index: []"
      ]
     },
     "execution_count": 7,
     "metadata": {},
     "output_type": "execute_result"
    }
   ],
   "source": [
    "# bins were move to static shelves\n",
    "df[df[\"location_zone\"] == 'bins']"
   ]
  },
  {
   "cell_type": "code",
   "execution_count": 8,
   "metadata": {
    "ExecuteTime": {
     "end_time": "2018-06-26T15:39:38.849843Z",
     "start_time": "2018-06-26T15:39:38.561843Z"
    }
   },
   "outputs": [
    {
     "data": {
      "text/html": [
       "<div>\n",
       "<style scoped>\n",
       "    .dataframe tbody tr th:only-of-type {\n",
       "        vertical-align: middle;\n",
       "    }\n",
       "\n",
       "    .dataframe tbody tr th {\n",
       "        vertical-align: top;\n",
       "    }\n",
       "\n",
       "    .dataframe thead th {\n",
       "        text-align: right;\n",
       "    }\n",
       "</style>\n",
       "<table border=\"1\" class=\"dataframe\">\n",
       "  <thead>\n",
       "    <tr style=\"text-align: right;\">\n",
       "      <th></th>\n",
       "      <th>location_zone</th>\n",
       "      <th>units_at_location</th>\n",
       "      <th>proportion</th>\n",
       "    </tr>\n",
       "  </thead>\n",
       "  <tbody>\n",
       "    <tr>\n",
       "      <th>0</th>\n",
       "      <td>Flow Rack</td>\n",
       "      <td>572740</td>\n",
       "      <td>0.283920</td>\n",
       "    </tr>\n",
       "    <tr>\n",
       "      <th>1</th>\n",
       "      <td>Other</td>\n",
       "      <td>1685</td>\n",
       "      <td>0.000835</td>\n",
       "    </tr>\n",
       "    <tr>\n",
       "      <th>2</th>\n",
       "      <td>Pallet Floor</td>\n",
       "      <td>1161680</td>\n",
       "      <td>0.575871</td>\n",
       "    </tr>\n",
       "    <tr>\n",
       "      <th>3</th>\n",
       "      <td>Static Shelves</td>\n",
       "      <td>281153</td>\n",
       "      <td>0.139374</td>\n",
       "    </tr>\n",
       "  </tbody>\n",
       "</table>\n",
       "</div>"
      ],
      "text/plain": [
       "    location_zone  units_at_location  proportion\n",
       "0       Flow Rack             572740    0.283920\n",
       "1           Other               1685    0.000835\n",
       "2    Pallet Floor            1161680    0.575871\n",
       "3  Static Shelves             281153    0.139374"
      ]
     },
     "execution_count": 8,
     "metadata": {},
     "output_type": "execute_result"
    }
   ],
   "source": [
    "totals = df.groupby(by=\"location_zone\", as_index=False).sum()[[\"location_zone\", \"units_at_location\"]]\n",
    "totals[\"proportion\"] = totals[\"units_at_location\"]/totals.sum()[\"units_at_location\"]\n",
    "totals"
   ]
  },
  {
   "cell_type": "markdown",
   "metadata": {},
   "source": [
    "## Proportions by Week"
   ]
  },
  {
   "cell_type": "code",
   "execution_count": 9,
   "metadata": {
    "ExecuteTime": {
     "end_time": "2018-06-26T15:39:39.206843Z",
     "start_time": "2018-06-26T15:39:38.851843Z"
    }
   },
   "outputs": [
    {
     "data": {
      "text/html": [
       "<div>\n",
       "<style scoped>\n",
       "    .dataframe tbody tr th:only-of-type {\n",
       "        vertical-align: middle;\n",
       "    }\n",
       "\n",
       "    .dataframe tbody tr th {\n",
       "        vertical-align: top;\n",
       "    }\n",
       "\n",
       "    .dataframe thead th {\n",
       "        text-align: right;\n",
       "    }\n",
       "</style>\n",
       "<table border=\"1\" class=\"dataframe\">\n",
       "  <thead>\n",
       "    <tr style=\"text-align: right;\">\n",
       "      <th></th>\n",
       "      <th>year</th>\n",
       "      <th>week</th>\n",
       "      <th>location_zone</th>\n",
       "      <th>units_at_location</th>\n",
       "      <th>total_units</th>\n",
       "      <th>proportion</th>\n",
       "    </tr>\n",
       "  </thead>\n",
       "  <tbody>\n",
       "    <tr>\n",
       "      <th>0</th>\n",
       "      <td>2017</td>\n",
       "      <td>40</td>\n",
       "      <td>Flow Rack</td>\n",
       "      <td>7859</td>\n",
       "      <td>27172</td>\n",
       "      <td>0.289232</td>\n",
       "    </tr>\n",
       "    <tr>\n",
       "      <th>1</th>\n",
       "      <td>2017</td>\n",
       "      <td>40</td>\n",
       "      <td>Pallet Floor</td>\n",
       "      <td>14284</td>\n",
       "      <td>27172</td>\n",
       "      <td>0.525688</td>\n",
       "    </tr>\n",
       "    <tr>\n",
       "      <th>2</th>\n",
       "      <td>2017</td>\n",
       "      <td>40</td>\n",
       "      <td>Static Shelves</td>\n",
       "      <td>5029</td>\n",
       "      <td>27172</td>\n",
       "      <td>0.185080</td>\n",
       "    </tr>\n",
       "    <tr>\n",
       "      <th>3</th>\n",
       "      <td>2017</td>\n",
       "      <td>41</td>\n",
       "      <td>Flow Rack</td>\n",
       "      <td>9728</td>\n",
       "      <td>32756</td>\n",
       "      <td>0.296984</td>\n",
       "    </tr>\n",
       "    <tr>\n",
       "      <th>4</th>\n",
       "      <td>2017</td>\n",
       "      <td>41</td>\n",
       "      <td>Pallet Floor</td>\n",
       "      <td>17311</td>\n",
       "      <td>32756</td>\n",
       "      <td>0.528483</td>\n",
       "    </tr>\n",
       "  </tbody>\n",
       "</table>\n",
       "</div>"
      ],
      "text/plain": [
       "   year  week   location_zone  units_at_location  total_units  proportion\n",
       "0  2017    40       Flow Rack               7859        27172    0.289232\n",
       "1  2017    40    Pallet Floor              14284        27172    0.525688\n",
       "2  2017    40  Static Shelves               5029        27172    0.185080\n",
       "3  2017    41       Flow Rack               9728        32756    0.296984\n",
       "4  2017    41    Pallet Floor              17311        32756    0.528483"
      ]
     },
     "execution_count": 9,
     "metadata": {},
     "output_type": "execute_result"
    }
   ],
   "source": [
    "# drop unnecessary columns and sum units by zone\n",
    "weekly = df.drop([\"wave_id\", \"units_in_wave\"], axis=1)\n",
    "weekly = weekly.groupby(by=[\"year\", \"week\", \"location_zone\"], as_index=False).sum()\n",
    "\n",
    "# get total units picked by week\n",
    "total_weekly = weekly.groupby(by=[\"year\", \"week\"], as_index=False).sum()\n",
    "total_weekly = total_weekly.rename(columns={\"units_at_location\":\"total_units\"})\n",
    "\n",
    "# join total units and get proportion\n",
    "weekly = weekly.merge(total_weekly, on=[\"year\", \"week\"])\n",
    "weekly[\"proportion\"] = weekly[\"units_at_location\"]/weekly[\"total_units\"]\n",
    "weekly.head()"
   ]
  },
  {
   "cell_type": "code",
   "execution_count": 10,
   "metadata": {
    "ExecuteTime": {
     "end_time": "2018-06-26T15:39:39.224843Z",
     "start_time": "2018-06-26T15:39:39.210843Z"
    }
   },
   "outputs": [],
   "source": [
    "# split out by zone\n",
    "pallets = weekly[weekly[\"location_zone\"] == \"Pallet Floor\"][[\"year\", \"week\", \"proportion\"]]\n",
    "racks = weekly[weekly[\"location_zone\"] == \"Flow Rack\"][[\"year\", \"week\", \"proportion\"]]\n",
    "shelves = weekly[weekly[\"location_zone\"] == \"Static Shelves\"][[\"year\", \"week\", \"proportion\"]]\n",
    "#bins = weekly[weekly[\"location_zone\"] == \"Bins\"][[\"year\", \"week\", \"proportion\"]]"
   ]
  },
  {
   "cell_type": "code",
   "execution_count": 11,
   "metadata": {
    "ExecuteTime": {
     "end_time": "2018-06-26T15:39:40.686843Z",
     "start_time": "2018-06-26T15:39:39.226843Z"
    },
    "scrolled": false
   },
   "outputs": [
    {
     "data": {
      "image/png": "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\n",
      "text/plain": [
       "<matplotlib.figure.Figure at 0x2c8bd4a8>"
      ]
     },
     "metadata": {},
     "output_type": "display_data"
    }
   ],
   "source": [
    "plt.figure(figsize=(12,7))\n",
    "\n",
    "plt.plot(np.array(pallets[\"proportion\"]), label='pallets', marker='o')\n",
    "plt.plot(np.array(racks[\"proportion\"]), label='racks', marker='o')\n",
    "plt.plot(np.array(shelves[\"proportion\"]), label='shelves', marker='o')\n",
    "#plt.plot(np.array(bins[\"proportion\"]), label='bins', marker='o')\n",
    "\n",
    "plt.xticks(np.arange(len(pallets)), pallets[\"week\"])\n",
    "plt.xlabel(\"Week\")\n",
    "plt.ylabel(\"Proportion\")\n",
    "plt.title(\"Proportion by Week\")\n",
    "plt.legend(loc=(1.01, .70), fontsize=12)\n",
    "plt.show()"
   ]
  },
  {
   "cell_type": "markdown",
   "metadata": {},
   "source": [
    "## Proportion Correlation to Total Units"
   ]
  },
  {
   "cell_type": "code",
   "execution_count": 12,
   "metadata": {
    "ExecuteTime": {
     "end_time": "2018-06-26T15:39:41.159843Z",
     "start_time": "2018-06-26T15:39:40.688843Z"
    }
   },
   "outputs": [
    {
     "data": {
      "text/html": [
       "<div>\n",
       "<style scoped>\n",
       "    .dataframe tbody tr th:only-of-type {\n",
       "        vertical-align: middle;\n",
       "    }\n",
       "\n",
       "    .dataframe tbody tr th {\n",
       "        vertical-align: top;\n",
       "    }\n",
       "\n",
       "    .dataframe thead th {\n",
       "        text-align: right;\n",
       "    }\n",
       "</style>\n",
       "<table border=\"1\" class=\"dataframe\">\n",
       "  <thead>\n",
       "    <tr style=\"text-align: right;\">\n",
       "      <th></th>\n",
       "      <th>year</th>\n",
       "      <th>week</th>\n",
       "      <th>location_zone</th>\n",
       "      <th>units_at_location</th>\n",
       "      <th>total_units</th>\n",
       "      <th>proportion</th>\n",
       "    </tr>\n",
       "  </thead>\n",
       "  <tbody>\n",
       "    <tr>\n",
       "      <th>0</th>\n",
       "      <td>2017</td>\n",
       "      <td>40</td>\n",
       "      <td>Flow Rack</td>\n",
       "      <td>7859</td>\n",
       "      <td>27172</td>\n",
       "      <td>0.289232</td>\n",
       "    </tr>\n",
       "    <tr>\n",
       "      <th>1</th>\n",
       "      <td>2017</td>\n",
       "      <td>40</td>\n",
       "      <td>Pallet Floor</td>\n",
       "      <td>14284</td>\n",
       "      <td>27172</td>\n",
       "      <td>0.525688</td>\n",
       "    </tr>\n",
       "    <tr>\n",
       "      <th>2</th>\n",
       "      <td>2017</td>\n",
       "      <td>40</td>\n",
       "      <td>Static Shelves</td>\n",
       "      <td>5029</td>\n",
       "      <td>27172</td>\n",
       "      <td>0.185080</td>\n",
       "    </tr>\n",
       "    <tr>\n",
       "      <th>3</th>\n",
       "      <td>2017</td>\n",
       "      <td>41</td>\n",
       "      <td>Flow Rack</td>\n",
       "      <td>9728</td>\n",
       "      <td>32756</td>\n",
       "      <td>0.296984</td>\n",
       "    </tr>\n",
       "    <tr>\n",
       "      <th>4</th>\n",
       "      <td>2017</td>\n",
       "      <td>41</td>\n",
       "      <td>Pallet Floor</td>\n",
       "      <td>17311</td>\n",
       "      <td>32756</td>\n",
       "      <td>0.528483</td>\n",
       "    </tr>\n",
       "  </tbody>\n",
       "</table>\n",
       "</div>"
      ],
      "text/plain": [
       "   year  week   location_zone  units_at_location  total_units  proportion\n",
       "0  2017    40       Flow Rack               7859        27172    0.289232\n",
       "1  2017    40    Pallet Floor              14284        27172    0.525688\n",
       "2  2017    40  Static Shelves               5029        27172    0.185080\n",
       "3  2017    41       Flow Rack               9728        32756    0.296984\n",
       "4  2017    41    Pallet Floor              17311        32756    0.528483"
      ]
     },
     "execution_count": 12,
     "metadata": {},
     "output_type": "execute_result"
    }
   ],
   "source": [
    "corr_df = df.drop([\"wave_id\", \"units_in_wave\"], axis=1)\n",
    "corr_df = corr_df.groupby(by=[\"year\", \"week\", \"location_zone\"], as_index=False).sum()\n",
    "corr_df = corr_df.merge(total_weekly, on=[\"year\", \"week\"])\n",
    "corr_df[\"proportion\"] = corr_df[\"units_at_location\"]/corr_df[\"total_units\"]\n",
    "corr_df.head()"
   ]
  },
  {
   "cell_type": "code",
   "execution_count": 13,
   "metadata": {
    "ExecuteTime": {
     "end_time": "2018-06-26T15:39:41.170843Z",
     "start_time": "2018-06-26T15:39:41.161843Z"
    }
   },
   "outputs": [],
   "source": [
    "# split out by zone\n",
    "pallets = corr_df[corr_df[\"location_zone\"] == \"Pallet Floor\"]#[[\"year\", \"week\", \"proportion\"]]\n",
    "racks = corr_df[corr_df[\"location_zone\"] == \"Flow Rack\"]#[[\"year\", \"week\", \"proportion\"]]\n",
    "shelves = corr_df[corr_df[\"location_zone\"] == \"Static Shelves\"]#[[\"year\", \"week\", \"proportion\"]]\n",
    "# bins = corr_df[corr_df[\"location_zone\"] == \"Bins\"]#[[\"year\", \"week\", \"proportion\"]]"
   ]
  },
  {
   "cell_type": "code",
   "execution_count": 14,
   "metadata": {
    "ExecuteTime": {
     "end_time": "2018-06-26T15:39:41.381843Z",
     "start_time": "2018-06-26T15:39:41.172843Z"
    }
   },
   "outputs": [
    {
     "data": {
      "image/png": "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\n",
      "text/plain": [
       "<matplotlib.figure.Figure at 0x2c8bd438>"
      ]
     },
     "metadata": {},
     "output_type": "display_data"
    }
   ],
   "source": [
    "plt.figure(figsize=[12,7])\n",
    "\n",
    "plt.plot(pallets[\"total_units\"], pallets[\"proportion\"], 'o', label='Pallet Floor')\n",
    "plt.plot(racks[\"total_units\"], racks[\"proportion\"], 'o', label='Flow Rack')\n",
    "plt.plot(shelves[\"total_units\"], shelves[\"proportion\"], 'o', label='Static Shelves')\n",
    "# plt.plot(bins[\"total_units\"], bins[\"proportion\"], 'o', label='Bins')\n",
    "\n",
    "plt.legend(loc=((1.01,.75)), fontsize=12)\n",
    "plt.xlabel(\"Total Units Per Week\")\n",
    "plt.ylabel(\"Proportion\")\n",
    "plt.title(\"Proportion by Total Units Scatter\")\n",
    "plt.show()"
   ]
  }
 ],
 "metadata": {
  "hide_input": false,
  "kernelspec": {
   "display_name": "Python 3",
   "language": "python",
   "name": "python3"
  },
  "language_info": {
   "codemirror_mode": {
    "name": "ipython",
    "version": 3
   },
   "file_extension": ".py",
   "mimetype": "text/x-python",
   "name": "python",
   "nbconvert_exporter": "python",
   "pygments_lexer": "ipython3",
   "version": "3.6.4"
  },
  "latex_envs": {
   "LaTeX_envs_menu_present": true,
   "autoclose": false,
   "autocomplete": true,
   "bibliofile": "biblio.bib",
   "cite_by": "apalike",
   "current_citInitial": 1,
   "eqLabelWithNumbers": true,
   "eqNumInitial": 1,
   "hotkeys": {
    "equation": "Ctrl-E",
    "itemize": "Ctrl-I"
   },
   "labels_anchors": false,
   "latex_user_defs": false,
   "report_style_numbering": false,
   "user_envs_cfg": false
  },
  "notify_time": "5",
  "toc": {
   "nav_menu": {},
   "number_sections": false,
   "sideBar": true,
   "skip_h1_title": false,
   "title_cell": "Table of Contents",
   "title_sidebar": "Contents",
   "toc_cell": false,
   "toc_position": {
    "height": "769px",
    "left": "1464px",
    "top": "185px",
    "width": "384px"
   },
   "toc_section_display": true,
   "toc_window_display": true
  },
  "varInspector": {
   "cols": {
    "lenName": 16,
    "lenType": 16,
    "lenVar": 40
   },
   "kernels_config": {
    "python": {
     "delete_cmd_postfix": "",
     "delete_cmd_prefix": "del ",
     "library": "var_list.py",
     "varRefreshCmd": "print(var_dic_list())"
    },
    "r": {
     "delete_cmd_postfix": ") ",
     "delete_cmd_prefix": "rm(",
     "library": "var_list.r",
     "varRefreshCmd": "cat(var_dic_list()) "
    }
   },
   "types_to_exclude": [
    "module",
    "function",
    "builtin_function_or_method",
    "instance",
    "_Feature"
   ],
   "window_display": false
  }
 },
 "nbformat": 4,
 "nbformat_minor": 2
}
